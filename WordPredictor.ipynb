{
  "nbformat": 4,
  "nbformat_minor": 0,
  "metadata": {
    "colab": {
      "name": "WordPredictor.ipynb",
      "provenance": [],
      "collapsed_sections": []
    },
    "kernelspec": {
      "name": "python3",
      "display_name": "Python 3"
    },
    "language_info": {
      "name": "python"
    }
  },
  "cells": [
    {
      "cell_type": "code",
      "execution_count": 12,
      "metadata": {
        "id": "MiVVEurxtgHU"
      },
      "outputs": [],
      "source": [
        "import tensorflow as tf\n",
        "import pydot\n",
        "from tensorflow.keras.preprocessing.text import Tokenizer\n",
        "from tensorflow.keras.layers import Embedding, LSTM, Dense\n",
        "from tensorflow.keras.models import Sequential\n",
        "from tensorflow.keras.utils import to_categorical\n",
        "from tensorflow.keras.optimizers import Adam\n",
        "import pickle\n",
        "import numpy as np\n",
        "import os"
      ]
    },
    {
      "cell_type": "code",
      "source": [
        "file = open(\"metamorphosis_clean.txt\", \"r\" , encoding = \"utf8\")\n",
        "lines = []\n",
        "\n",
        "for i in file:\n",
        "    lines.append(i)\n",
        "    \n",
        "print(\"The First Line: \", lines[0])\n",
        "print(\"The Last Line: \", lines[-1])"
      ],
      "metadata": {
        "colab": {
          "base_uri": "https://localhost:8080/"
        },
        "id": "AUpptUFjtmk-",
        "outputId": "58536d2d-586d-4d40-a300-2cd319fd7a87"
      },
      "execution_count": 13,
      "outputs": [
        {
          "output_type": "stream",
          "name": "stdout",
          "text": [
            "The First Line:  \n",
            "\n",
            "The Last Line:   \n",
            "\n"
          ]
        }
      ]
    },
    {
      "cell_type": "code",
      "source": [
        "data = \"\"\n",
        "\n",
        "for i in lines:\n",
        "    data = ' '. join(lines)\n",
        "    \n",
        "data = data.replace('\\n', '').replace('\\r', '').replace('\\ufeff', '')\n",
        "data[:360]"
      ],
      "metadata": {
        "colab": {
          "base_uri": "https://localhost:8080/",
          "height": 71
        },
        "id": "tC3U55wztq9o",
        "outputId": "ce27b082-5f33-4cfb-956b-5ec87276ad07"
      },
      "execution_count": 14,
      "outputs": [
        {
          "output_type": "execute_result",
          "data": {
            "text/plain": [
              "' One morning, when Gregor Samsa woke up from troubled dreams, he found himself transformed in his bed into a horrible vermin. He lay on his armour-like back, and if he lifted his head a little he could   see his brown belly, slightly domed and divided by arches into stiff   sections.  The bedding was hardly able to cover it and seemed ready   to slide off an'"
            ],
            "application/vnd.google.colaboratory.intrinsic+json": {
              "type": "string"
            }
          },
          "metadata": {},
          "execution_count": 14
        }
      ]
    },
    {
      "cell_type": "code",
      "source": [
        "import string\n",
        "\n",
        "translator = str.maketrans(string.punctuation, ' '*len(string.punctuation)) #map punctuation to space\n",
        "new_data = data.translate(translator)\n",
        "\n",
        "new_data[:500]"
      ],
      "metadata": {
        "colab": {
          "base_uri": "https://localhost:8080/",
          "height": 88
        },
        "id": "hvr6KBSyt2p8",
        "outputId": "581b07c3-c688-4d0f-8552-ed889a80ebbc"
      },
      "execution_count": 15,
      "outputs": [
        {
          "output_type": "execute_result",
          "data": {
            "text/plain": [
              "' One morning  when Gregor Samsa woke up from troubled dreams  he found himself transformed in his bed into a horrible vermin  He lay on his armour like back  and if he lifted his head a little he could   see his brown belly  slightly domed and divided by arches into stiff   sections   The bedding was hardly able to cover it and seemed ready   to slide off any moment   His many legs  pitifully thin compared   with the size of the rest of him  waved about helplessly as he   looked        What s ha'"
            ],
            "application/vnd.google.colaboratory.intrinsic+json": {
              "type": "string"
            }
          },
          "metadata": {},
          "execution_count": 15
        }
      ]
    },
    {
      "cell_type": "code",
      "source": [
        "z = []\n",
        "\n",
        "for i in data.split():\n",
        "    if i not in z:\n",
        "        z.append(i)\n",
        "        \n",
        "data = ' '.join(z)\n",
        "data[:500]"
      ],
      "metadata": {
        "colab": {
          "base_uri": "https://localhost:8080/",
          "height": 88
        },
        "id": "L5RTxTTut3on",
        "outputId": "876b06a4-c53f-4a80-9f23-c48de8c9a4bb"
      },
      "execution_count": 16,
      "outputs": [
        {
          "output_type": "execute_result",
          "data": {
            "text/plain": [
              "'One morning, when Gregor Samsa woke up from troubled dreams, he found himself transformed in his bed into a horrible vermin. He lay on armour-like back, and if lifted head little could see brown belly, slightly domed divided by arches stiff sections. The bedding was hardly able to cover it seemed ready slide off any moment. His many legs, pitifully thin compared with the size of rest him, waved about helplessly as looked. \"What\\'s happened me?\" thought. It wasn\\'t dream. room, proper human room al'"
            ],
            "application/vnd.google.colaboratory.intrinsic+json": {
              "type": "string"
            }
          },
          "metadata": {},
          "execution_count": 16
        }
      ]
    },
    {
      "cell_type": "markdown",
      "source": [
        "TOKENIZATION"
      ],
      "metadata": {
        "id": "RlEY2NNSt68y"
      }
    },
    {
      "cell_type": "code",
      "source": [
        "tokenizer = Tokenizer()\n",
        "tokenizer.fit_on_texts([data])\n",
        "\n",
        "# saving the tokenizer for predict function.\n",
        "pickle.dump(tokenizer, open('tokenizer1.pkl', 'wb'))\n",
        "\n",
        "sequence_data = tokenizer.texts_to_sequences([data])[0]\n",
        "sequence_data[:10]"
      ],
      "metadata": {
        "colab": {
          "base_uri": "https://localhost:8080/"
        },
        "id": "tqFD-lqgt9ek",
        "outputId": "4bd4482b-8c09-4840-b883-e40a286ee9bb"
      },
      "execution_count": 17,
      "outputs": [
        {
          "output_type": "execute_result",
          "data": {
            "text/plain": [
              "[17, 53, 293, 2, 18, 729, 54, 135, 730, 294]"
            ]
          },
          "metadata": {},
          "execution_count": 17
        }
      ]
    },
    {
      "cell_type": "code",
      "source": [
        "vocab_size = len(tokenizer.word_index) + 1\n",
        "print(vocab_size)"
      ],
      "metadata": {
        "colab": {
          "base_uri": "https://localhost:8080/"
        },
        "id": "udLr0n3SuDz-",
        "outputId": "7d97ff1d-5b69-4d64-d954-b5493d20b979"
      },
      "execution_count": 18,
      "outputs": [
        {
          "output_type": "stream",
          "name": "stdout",
          "text": [
            "2617\n"
          ]
        }
      ]
    },
    {
      "cell_type": "code",
      "source": [
        "sequences = []\n",
        "\n",
        "for i in range(1, len(sequence_data)):\n",
        "    words = sequence_data[i-1:i+1]\n",
        "    sequences.append(words)\n",
        "    \n",
        "print(\"The Length of sequences are: \", len(sequences))\n",
        "sequences = np.array(sequences)\n",
        "sequences[:10]"
      ],
      "metadata": {
        "colab": {
          "base_uri": "https://localhost:8080/"
        },
        "id": "v05bfRs0uFNZ",
        "outputId": "969b7f3c-f66e-4f04-822e-733e2dccf64b"
      },
      "execution_count": 19,
      "outputs": [
        {
          "output_type": "stream",
          "name": "stdout",
          "text": [
            "The Length of sequences are:  3889\n"
          ]
        },
        {
          "output_type": "execute_result",
          "data": {
            "text/plain": [
              "array([[ 17,  53],\n",
              "       [ 53, 293],\n",
              "       [293,   2],\n",
              "       [  2,  18],\n",
              "       [ 18, 729],\n",
              "       [729,  54],\n",
              "       [ 54, 135],\n",
              "       [135, 730],\n",
              "       [730, 294],\n",
              "       [294,   8]])"
            ]
          },
          "metadata": {},
          "execution_count": 19
        }
      ]
    },
    {
      "cell_type": "code",
      "source": [
        "X = []\n",
        "y = []\n",
        "\n",
        "for i in sequences:\n",
        "    X.append(i[0])\n",
        "    y.append(i[1])\n",
        "    \n",
        "X = np.array(X)\n",
        "y = np.array(y)"
      ],
      "metadata": {
        "id": "B6wsfPKeuIaX"
      },
      "execution_count": 20,
      "outputs": []
    },
    {
      "cell_type": "code",
      "source": [
        "print(\"The Data is: \", X[:5])\n",
        "print(\"The responses are: \", y[:5])"
      ],
      "metadata": {
        "colab": {
          "base_uri": "https://localhost:8080/"
        },
        "id": "cbtL9ZGKuLnz",
        "outputId": "4664007a-40c7-4d3e-bd98-d8fe5498a6b2"
      },
      "execution_count": 21,
      "outputs": [
        {
          "output_type": "stream",
          "name": "stdout",
          "text": [
            "The Data is:  [ 17  53 293   2  18]\n",
            "The responses are:  [ 53 293   2  18 729]\n"
          ]
        }
      ]
    },
    {
      "cell_type": "code",
      "source": [
        "y = to_categorical(y, num_classes=vocab_size)\n",
        "y[:5]"
      ],
      "metadata": {
        "colab": {
          "base_uri": "https://localhost:8080/"
        },
        "id": "ZHKT60DGuRX0",
        "outputId": "4ef6741f-4773-42f0-98eb-ecdfca191470"
      },
      "execution_count": 22,
      "outputs": [
        {
          "output_type": "execute_result",
          "data": {
            "text/plain": [
              "array([[0., 0., 0., ..., 0., 0., 0.],\n",
              "       [0., 0., 0., ..., 0., 0., 0.],\n",
              "       [0., 0., 1., ..., 0., 0., 0.],\n",
              "       [0., 0., 0., ..., 0., 0., 0.],\n",
              "       [0., 0., 0., ..., 0., 0., 0.]], dtype=float32)"
            ]
          },
          "metadata": {},
          "execution_count": 22
        }
      ]
    },
    {
      "cell_type": "markdown",
      "source": [
        "CREATING A MODEL"
      ],
      "metadata": {
        "id": "9FEUhfD6uU4R"
      }
    },
    {
      "cell_type": "code",
      "source": [
        "model = Sequential()\n",
        "model.add(Embedding(vocab_size, 10, input_length=1))\n",
        "model.add(LSTM(1000, return_sequences=True))\n",
        "model.add(LSTM(1000))\n",
        "model.add(Dense(1000, activation=\"relu\"))\n",
        "model.add(Dense(vocab_size, activation=\"softmax\"))"
      ],
      "metadata": {
        "id": "U_nfZC12uZnt"
      },
      "execution_count": 23,
      "outputs": []
    },
    {
      "cell_type": "code",
      "source": [
        "model.summary()"
      ],
      "metadata": {
        "colab": {
          "base_uri": "https://localhost:8080/"
        },
        "id": "1qnOOpSRuc0S",
        "outputId": "9fc7923a-bbbb-42f3-f2c2-75e182cf4de2"
      },
      "execution_count": 24,
      "outputs": [
        {
          "output_type": "stream",
          "name": "stdout",
          "text": [
            "Model: \"sequential\"\n",
            "_________________________________________________________________\n",
            " Layer (type)                Output Shape              Param #   \n",
            "=================================================================\n",
            " embedding (Embedding)       (None, 1, 10)             26170     \n",
            "                                                                 \n",
            " lstm (LSTM)                 (None, 1, 1000)           4044000   \n",
            "                                                                 \n",
            " lstm_1 (LSTM)               (None, 1000)              8004000   \n",
            "                                                                 \n",
            " dense (Dense)               (None, 1000)              1001000   \n",
            "                                                                 \n",
            " dense_1 (Dense)             (None, 2617)              2619617   \n",
            "                                                                 \n",
            "=================================================================\n",
            "Total params: 15,694,787\n",
            "Trainable params: 15,694,787\n",
            "Non-trainable params: 0\n",
            "_________________________________________________________________\n"
          ]
        }
      ]
    },
    {
      "cell_type": "code",
      "source": [
        "PLOT THE MODEL"
      ],
      "metadata": {
        "id": "MvU9d06HuiC6"
      },
      "execution_count": null,
      "outputs": []
    },
    {
      "cell_type": "code",
      "source": [
        "from tensorflow import keras\n",
        "from keras.utils.vis_utils import plot_model\n",
        "\n",
        "keras.utils.plot_model(model, to_file='model.png', show_layer_names=True)"
      ],
      "metadata": {
        "colab": {
          "base_uri": "https://localhost:8080/",
          "height": 564
        },
        "id": "2J6KkOwculdW",
        "outputId": "6f24f05f-2ddc-4307-93fc-d30edeaa319d"
      },
      "execution_count": 25,
      "outputs": [
        {
          "output_type": "execute_result",
          "data": {
            "text/plain": [
              "<IPython.core.display.Image object>"
            ],
            "image/png": "[encoded data removed]"
          },
          "metadata": {},
          "execution_count": 25
        }
      ]
    },
    {
      "cell_type": "markdown",
      "source": [
        "CALLBACKS"
      ],
      "metadata": {
        "id": "cVGpUZVwuonQ"
      }
    },
    {
      "cell_type": "code",
      "source": [
        "from tensorflow.keras.callbacks import ModelCheckpoint\n",
        "from tensorflow.keras.callbacks import ReduceLROnPlateau\n",
        "from tensorflow.keras.callbacks import TensorBoard\n",
        "\n",
        "checkpoint = ModelCheckpoint(\"nextword1.h5\", monitor='loss', verbose=1,\n",
        "    save_best_only=True, mode='auto')\n",
        "\n",
        "reduce = ReduceLROnPlateau(monitor='loss', factor=0.2, patience=3, min_lr=0.0001, verbose = 1)\n",
        "\n",
        "logdir='logsnextword1'\n",
        "tensorboard_Visualization = TensorBoard(log_dir=logdir)"
      ],
      "metadata": {
        "id": "YgENNivLuqBo"
      },
      "execution_count": 26,
      "outputs": []
    },
    {
      "cell_type": "markdown",
      "source": [
        "COMPILE THE MODEL"
      ],
      "metadata": {
        "id": "6nKai_gSuu3w"
      }
    },
    {
      "cell_type": "code",
      "source": [
        "model.compile(loss=\"categorical_crossentropy\", optimizer=Adam(lr=0.001))"
      ],
      "metadata": {
        "colab": {
          "base_uri": "https://localhost:8080/"
        },
        "id": "irLnRkj6vIF1",
        "outputId": "ccc03863-1620-4c26-d9e8-b8a470f7b780"
      },
      "execution_count": 27,
      "outputs": [
        {
          "output_type": "stream",
          "name": "stderr",
          "text": [
            "/usr/local/lib/python3.7/dist-packages/keras/optimizer_v2/adam.py:105: UserWarning: The `lr` argument is deprecated, use `learning_rate` instead.\n",
            "  super(Adam, self).__init__(name, **kwargs)\n"
          ]
        }
      ]
    },
    {
      "cell_type": "markdown",
      "source": [
        "FIT THE MODEL"
      ],
      "metadata": {
        "id": "j6ud6LjEvL4Q"
      }
    },
    {
      "cell_type": "code",
      "source": [
        "model.fit(X, y, epochs=150, batch_size=64, callbacks=[checkpoint, reduce, tensorboard_Visualization])"
      ],
      "metadata": {
        "colab": {
          "base_uri": "https://localhost:8080/"
        },
        "id": "tpTdFwDCvOnk",
        "outputId": "dbd32087-2d16-4d86-c5b5-0edad3caa8e9"
      },
      "execution_count": 28,
      "outputs": [
        {
          "output_type": "stream",
          "name": "stdout",
          "text": [
            "Epoch 1/150\n",
            "61/61 [==============================] - ETA: 0s - loss: 7.8750\n",
            "Epoch 1: loss improved from inf to 7.87502, saving model to nextword1.h5\n",
            "61/61 [==============================] - 17s 213ms/step - loss: 7.8750 - lr: 0.0010\n",
            "Epoch 2/150\n",
            "61/61 [==============================] - ETA: 0s - loss: 7.8628\n",
            "Epoch 2: loss improved from 7.87502 to 7.86277, saving model to nextword1.h5\n",
            "61/61 [==============================] - 13s 211ms/step - loss: 7.8628 - lr: 0.0010\n",
            "Epoch 3/150\n",
            "61/61 [==============================] - ETA: 0s - loss: 7.8162\n",
            "Epoch 3: loss improved from 7.86277 to 7.81623, saving model to nextword1.h5\n",
            "61/61 [==============================] - 13s 210ms/step - loss: 7.8162 - lr: 0.0010\n",
            "Epoch 4/150\n",
            "61/61 [==============================] - ETA: 0s - loss: 7.6297\n",
            "Epoch 4: loss improved from 7.81623 to 7.62965, saving model to nextword1.h5\n",
            "61/61 [==============================] - 13s 210ms/step - loss: 7.6297 - lr: 0.0010\n",
            "Epoch 5/150\n",
            "61/61 [==============================] - ETA: 0s - loss: 7.4346\n",
            "Epoch 5: loss improved from 7.62965 to 7.43463, saving model to nextword1.h5\n",
            "61/61 [==============================] - 13s 212ms/step - loss: 7.4346 - lr: 0.0010\n",
            "Epoch 6/150\n",
            "61/61 [==============================] - ETA: 0s - loss: 7.2639\n",
            "Epoch 6: loss improved from 7.43463 to 7.26389, saving model to nextword1.h5\n",
            "61/61 [==============================] - 13s 210ms/step - loss: 7.2639 - lr: 0.0010\n",
            "Epoch 7/150\n",
            "61/61 [==============================] - ETA: 0s - loss: 7.1666\n",
            "Epoch 7: loss improved from 7.26389 to 7.16662, saving model to nextword1.h5\n",
            "61/61 [==============================] - 13s 214ms/step - loss: 7.1666 - lr: 0.0010\n",
            "Epoch 8/150\n",
            "61/61 [==============================] - ETA: 0s - loss: 7.0770\n",
            "Epoch 8: loss improved from 7.16662 to 7.07700, saving model to nextword1.h5\n",
            "61/61 [==============================] - 14s 228ms/step - loss: 7.0770 - lr: 0.0010\n",
            "Epoch 9/150\n",
            "61/61 [==============================] - ETA: 0s - loss: 6.9728\n",
            "Epoch 9: loss improved from 7.07700 to 6.97278, saving model to nextword1.h5\n",
            "61/61 [==============================] - 13s 213ms/step - loss: 6.9728 - lr: 0.0010\n",
            "Epoch 10/150\n",
            "61/61 [==============================] - ETA: 0s - loss: 6.8231\n",
            "Epoch 10: loss improved from 6.97278 to 6.82307, saving model to nextword1.h5\n",
            "61/61 [==============================] - 13s 210ms/step - loss: 6.8231 - lr: 0.0010\n",
            "Epoch 11/150\n",
            "61/61 [==============================] - ETA: 0s - loss: 6.6289\n",
            "Epoch 11: loss improved from 6.82307 to 6.62891, saving model to nextword1.h5\n",
            "61/61 [==============================] - 13s 211ms/step - loss: 6.6289 - lr: 0.0010\n",
            "Epoch 12/150\n",
            "61/61 [==============================] - ETA: 0s - loss: 6.3850\n",
            "Epoch 12: loss improved from 6.62891 to 6.38504, saving model to nextword1.h5\n",
            "61/61 [==============================] - 13s 213ms/step - loss: 6.3850 - lr: 0.0010\n",
            "Epoch 13/150\n",
            "61/61 [==============================] - ETA: 0s - loss: 6.1441\n",
            "Epoch 13: loss improved from 6.38504 to 6.14409, saving model to nextword1.h5\n",
            "61/61 [==============================] - 13s 210ms/step - loss: 6.1441 - lr: 0.0010\n",
            "Epoch 14/150\n",
            "61/61 [==============================] - ETA: 0s - loss: 5.9362\n",
            "Epoch 14: loss improved from 6.14409 to 5.93622, saving model to nextword1.h5\n",
            "61/61 [==============================] - 14s 227ms/step - loss: 5.9362 - lr: 0.0010\n",
            "Epoch 15/150\n",
            "61/61 [==============================] - ETA: 0s - loss: 5.7513\n",
            "Epoch 15: loss improved from 5.93622 to 5.75132, saving model to nextword1.h5\n",
            "61/61 [==============================] - 13s 213ms/step - loss: 5.7513 - lr: 0.0010\n",
            "Epoch 16/150\n",
            "61/61 [==============================] - ETA: 0s - loss: 5.5658\n",
            "Epoch 16: loss improved from 5.75132 to 5.56583, saving model to nextword1.h5\n",
            "61/61 [==============================] - 13s 213ms/step - loss: 5.5658 - lr: 0.0010\n",
            "Epoch 17/150\n",
            "61/61 [==============================] - ETA: 0s - loss: 5.3987\n",
            "Epoch 17: loss improved from 5.56583 to 5.39867, saving model to nextword1.h5\n",
            "61/61 [==============================] - 13s 217ms/step - loss: 5.3987 - lr: 0.0010\n",
            "Epoch 18/150\n",
            "61/61 [==============================] - ETA: 0s - loss: 5.2605\n",
            "Epoch 18: loss improved from 5.39867 to 5.26048, saving model to nextword1.h5\n",
            "61/61 [==============================] - 13s 213ms/step - loss: 5.2605 - lr: 0.0010\n",
            "Epoch 19/150\n",
            "61/61 [==============================] - ETA: 0s - loss: 5.1323\n",
            "Epoch 19: loss improved from 5.26048 to 5.13234, saving model to nextword1.h5\n",
            "61/61 [==============================] - 13s 217ms/step - loss: 5.1323 - lr: 0.0010\n",
            "Epoch 20/150\n",
            "61/61 [==============================] - ETA: 0s - loss: 5.0115\n",
            "Epoch 20: loss improved from 5.13234 to 5.01155, saving model to nextword1.h5\n",
            "61/61 [==============================] - 13s 217ms/step - loss: 5.0115 - lr: 0.0010\n",
            "Epoch 21/150\n",
            "61/61 [==============================] - ETA: 0s - loss: 4.9021\n",
            "Epoch 21: loss improved from 5.01155 to 4.90211, saving model to nextword1.h5\n",
            "61/61 [==============================] - 13s 214ms/step - loss: 4.9021 - lr: 0.0010\n",
            "Epoch 22/150\n",
            "61/61 [==============================] - ETA: 0s - loss: 4.8007\n",
            "Epoch 22: loss improved from 4.90211 to 4.80074, saving model to nextword1.h5\n",
            "61/61 [==============================] - 13s 220ms/step - loss: 4.8007 - lr: 0.0010\n",
            "Epoch 23/150\n",
            "61/61 [==============================] - ETA: 0s - loss: 4.6843\n",
            "Epoch 23: loss improved from 4.80074 to 4.68431, saving model to nextword1.h5\n",
            "61/61 [==============================] - 13s 217ms/step - loss: 4.6843 - lr: 0.0010\n",
            "Epoch 24/150\n",
            "61/61 [==============================] - ETA: 0s - loss: 4.6126\n",
            "Epoch 24: loss improved from 4.68431 to 4.61262, saving model to nextword1.h5\n",
            "61/61 [==============================] - 13s 215ms/step - loss: 4.6126 - lr: 0.0010\n",
            "Epoch 25/150\n",
            "61/61 [==============================] - ETA: 0s - loss: 4.5214\n",
            "Epoch 25: loss improved from 4.61262 to 4.52145, saving model to nextword1.h5\n",
            "61/61 [==============================] - 13s 218ms/step - loss: 4.5214 - lr: 0.0010\n",
            "Epoch 26/150\n",
            "61/61 [==============================] - ETA: 0s - loss: 4.4436\n",
            "Epoch 26: loss improved from 4.52145 to 4.44357, saving model to nextword1.h5\n",
            "61/61 [==============================] - 13s 216ms/step - loss: 4.4436 - lr: 0.0010\n",
            "Epoch 27/150\n",
            "61/61 [==============================] - ETA: 0s - loss: 4.3224\n",
            "Epoch 27: loss improved from 4.44357 to 4.32236, saving model to nextword1.h5\n",
            "61/61 [==============================] - 13s 214ms/step - loss: 4.3224 - lr: 0.0010\n",
            "Epoch 28/150\n",
            "61/61 [==============================] - ETA: 0s - loss: 4.2107\n",
            "Epoch 28: loss improved from 4.32236 to 4.21073, saving model to nextword1.h5\n",
            "61/61 [==============================] - 13s 215ms/step - loss: 4.2107 - lr: 0.0010\n",
            "Epoch 29/150\n",
            "61/61 [==============================] - ETA: 0s - loss: 4.0998\n",
            "Epoch 29: loss improved from 4.21073 to 4.09981, saving model to nextword1.h5\n",
            "61/61 [==============================] - 13s 216ms/step - loss: 4.0998 - lr: 0.0010\n",
            "Epoch 30/150\n",
            "61/61 [==============================] - ETA: 0s - loss: 3.9504\n",
            "Epoch 30: loss improved from 4.09981 to 3.95035, saving model to nextword1.h5\n",
            "61/61 [==============================] - 13s 218ms/step - loss: 3.9504 - lr: 0.0010\n",
            "Epoch 31/150\n",
            "61/61 [==============================] - ETA: 0s - loss: 3.7964\n",
            "Epoch 31: loss improved from 3.95035 to 3.79637, saving model to nextword1.h5\n",
            "61/61 [==============================] - 13s 215ms/step - loss: 3.7964 - lr: 0.0010\n",
            "Epoch 32/150\n",
            "61/61 [==============================] - ETA: 0s - loss: 3.6384\n",
            "Epoch 32: loss improved from 3.79637 to 3.63840, saving model to nextword1.h5\n",
            "61/61 [==============================] - 13s 215ms/step - loss: 3.6384 - lr: 0.0010\n",
            "Epoch 33/150\n",
            "61/61 [==============================] - ETA: 0s - loss: 3.5258\n",
            "Epoch 33: loss improved from 3.63840 to 3.52578, saving model to nextword1.h5\n",
            "61/61 [==============================] - 13s 218ms/step - loss: 3.5258 - lr: 0.0010\n",
            "Epoch 34/150\n",
            "61/61 [==============================] - ETA: 0s - loss: 3.4061\n",
            "Epoch 34: loss improved from 3.52578 to 3.40614, saving model to nextword1.h5\n",
            "61/61 [==============================] - 13s 214ms/step - loss: 3.4061 - lr: 0.0010\n",
            "Epoch 35/150\n",
            "61/61 [==============================] - ETA: 0s - loss: 3.2732\n",
            "Epoch 35: loss improved from 3.40614 to 3.27321, saving model to nextword1.h5\n",
            "61/61 [==============================] - 13s 213ms/step - loss: 3.2732 - lr: 0.0010\n",
            "Epoch 36/150\n",
            "61/61 [==============================] - ETA: 0s - loss: 3.1827\n",
            "Epoch 36: loss improved from 3.27321 to 3.18268, saving model to nextword1.h5\n",
            "61/61 [==============================] - 14s 227ms/step - loss: 3.1827 - lr: 0.0010\n",
            "Epoch 37/150\n",
            "61/61 [==============================] - ETA: 0s - loss: 3.1006\n",
            "Epoch 37: loss improved from 3.18268 to 3.10055, saving model to nextword1.h5\n",
            "61/61 [==============================] - 13s 213ms/step - loss: 3.1006 - lr: 0.0010\n",
            "Epoch 38/150\n",
            "61/61 [==============================] - ETA: 0s - loss: 2.9894\n",
            "Epoch 38: loss improved from 3.10055 to 2.98943, saving model to nextword1.h5\n",
            "61/61 [==============================] - 13s 214ms/step - loss: 2.9894 - lr: 0.0010\n",
            "Epoch 39/150\n",
            "61/61 [==============================] - ETA: 0s - loss: 2.8803\n",
            "Epoch 39: loss improved from 2.98943 to 2.88029, saving model to nextword1.h5\n",
            "61/61 [==============================] - 13s 214ms/step - loss: 2.8803 - lr: 0.0010\n",
            "Epoch 40/150\n",
            "61/61 [==============================] - ETA: 0s - loss: 2.8367\n",
            "Epoch 40: loss improved from 2.88029 to 2.83674, saving model to nextword1.h5\n",
            "61/61 [==============================] - 13s 215ms/step - loss: 2.8367 - lr: 0.0010\n",
            "Epoch 41/150\n",
            "61/61 [==============================] - ETA: 0s - loss: 2.7501\n",
            "Epoch 41: loss improved from 2.83674 to 2.75013, saving model to nextword1.h5\n",
            "61/61 [==============================] - 13s 214ms/step - loss: 2.7501 - lr: 0.0010\n",
            "Epoch 42/150\n",
            "61/61 [==============================] - ETA: 0s - loss: 2.6483\n",
            "Epoch 42: loss improved from 2.75013 to 2.64835, saving model to nextword1.h5\n",
            "61/61 [==============================] - 13s 213ms/step - loss: 2.6483 - lr: 0.0010\n",
            "Epoch 43/150\n",
            "61/61 [==============================] - ETA: 0s - loss: 2.6337\n",
            "Epoch 43: loss improved from 2.64835 to 2.63373, saving model to nextword1.h5\n",
            "61/61 [==============================] - 13s 213ms/step - loss: 2.6337 - lr: 0.0010\n",
            "Epoch 44/150\n",
            "61/61 [==============================] - ETA: 0s - loss: 2.5623\n",
            "Epoch 44: loss improved from 2.63373 to 2.56230, saving model to nextword1.h5\n",
            "61/61 [==============================] - 13s 219ms/step - loss: 2.5623 - lr: 0.0010\n",
            "Epoch 45/150\n",
            "61/61 [==============================] - ETA: 0s - loss: 2.4924\n",
            "Epoch 45: loss improved from 2.56230 to 2.49239, saving model to nextword1.h5\n",
            "61/61 [==============================] - 13s 215ms/step - loss: 2.4924 - lr: 0.0010\n",
            "Epoch 46/150\n",
            "61/61 [==============================] - ETA: 0s - loss: 2.4504\n",
            "Epoch 46: loss improved from 2.49239 to 2.45039, saving model to nextword1.h5\n",
            "61/61 [==============================] - 13s 215ms/step - loss: 2.4504 - lr: 0.0010\n",
            "Epoch 47/150\n",
            "61/61 [==============================] - ETA: 0s - loss: 2.4088\n",
            "Epoch 47: loss improved from 2.45039 to 2.40884, saving model to nextword1.h5\n",
            "61/61 [==============================] - 13s 213ms/step - loss: 2.4088 - lr: 0.0010\n",
            "Epoch 48/150\n",
            "61/61 [==============================] - ETA: 0s - loss: 2.3105\n",
            "Epoch 48: loss improved from 2.40884 to 2.31049, saving model to nextword1.h5\n",
            "61/61 [==============================] - 13s 210ms/step - loss: 2.3105 - lr: 0.0010\n",
            "Epoch 49/150\n",
            "61/61 [==============================] - ETA: 0s - loss: 2.2538\n",
            "Epoch 49: loss improved from 2.31049 to 2.25375, saving model to nextword1.h5\n",
            "61/61 [==============================] - 13s 208ms/step - loss: 2.2538 - lr: 0.0010\n",
            "Epoch 50/150\n",
            "61/61 [==============================] - ETA: 0s - loss: 2.2155\n",
            "Epoch 50: loss improved from 2.25375 to 2.21552, saving model to nextword1.h5\n",
            "61/61 [==============================] - 13s 209ms/step - loss: 2.2155 - lr: 0.0010\n",
            "Epoch 51/150\n",
            "61/61 [==============================] - ETA: 0s - loss: 2.1411\n",
            "Epoch 51: loss improved from 2.21552 to 2.14109, saving model to nextword1.h5\n",
            "61/61 [==============================] - 13s 209ms/step - loss: 2.1411 - lr: 0.0010\n",
            "Epoch 52/150\n",
            "61/61 [==============================] - ETA: 0s - loss: 2.1132\n",
            "Epoch 52: loss improved from 2.14109 to 2.11323, saving model to nextword1.h5\n",
            "61/61 [==============================] - 13s 208ms/step - loss: 2.1132 - lr: 0.0010\n",
            "Epoch 53/150\n",
            "61/61 [==============================] - ETA: 0s - loss: 2.0622\n",
            "Epoch 53: loss improved from 2.11323 to 2.06215, saving model to nextword1.h5\n",
            "61/61 [==============================] - 13s 207ms/step - loss: 2.0622 - lr: 0.0010\n",
            "Epoch 54/150\n",
            "61/61 [==============================] - ETA: 0s - loss: 1.9950\n",
            "Epoch 54: loss improved from 2.06215 to 1.99503, saving model to nextword1.h5\n",
            "61/61 [==============================] - 13s 207ms/step - loss: 1.9950 - lr: 0.0010\n",
            "Epoch 55/150\n",
            "61/61 [==============================] - ETA: 0s - loss: 1.9371\n",
            "Epoch 55: loss improved from 1.99503 to 1.93709, saving model to nextword1.h5\n",
            "61/61 [==============================] - 13s 206ms/step - loss: 1.9371 - lr: 0.0010\n",
            "Epoch 56/150\n",
            "61/61 [==============================] - ETA: 0s - loss: 1.9138\n",
            "Epoch 56: loss improved from 1.93709 to 1.91380, saving model to nextword1.h5\n",
            "61/61 [==============================] - 13s 212ms/step - loss: 1.9138 - lr: 0.0010\n",
            "Epoch 57/150\n",
            "61/61 [==============================] - ETA: 0s - loss: 1.8552\n",
            "Epoch 57: loss improved from 1.91380 to 1.85517, saving model to nextword1.h5\n",
            "61/61 [==============================] - 13s 212ms/step - loss: 1.8552 - lr: 0.0010\n",
            "Epoch 58/150\n",
            "61/61 [==============================] - ETA: 0s - loss: 1.8154\n",
            "Epoch 58: loss improved from 1.85517 to 1.81540, saving model to nextword1.h5\n",
            "61/61 [==============================] - 13s 213ms/step - loss: 1.8154 - lr: 0.0010\n",
            "Epoch 59/150\n",
            "61/61 [==============================] - ETA: 0s - loss: 1.7603\n",
            "Epoch 59: loss improved from 1.81540 to 1.76029, saving model to nextword1.h5\n",
            "61/61 [==============================] - 14s 222ms/step - loss: 1.7603 - lr: 0.0010\n",
            "Epoch 60/150\n",
            "61/61 [==============================] - ETA: 0s - loss: 1.7307\n",
            "Epoch 60: loss improved from 1.76029 to 1.73073, saving model to nextword1.h5\n",
            "61/61 [==============================] - 13s 214ms/step - loss: 1.7307 - lr: 0.0010\n",
            "Epoch 61/150\n",
            "61/61 [==============================] - ETA: 0s - loss: 1.6925\n",
            "Epoch 61: loss improved from 1.73073 to 1.69253, saving model to nextword1.h5\n",
            "61/61 [==============================] - 13s 213ms/step - loss: 1.6925 - lr: 0.0010\n",
            "Epoch 62/150\n",
            "61/61 [==============================] - ETA: 0s - loss: 1.6643\n",
            "Epoch 62: loss improved from 1.69253 to 1.66426, saving model to nextword1.h5\n",
            "61/61 [==============================] - 13s 219ms/step - loss: 1.6643 - lr: 0.0010\n",
            "Epoch 63/150\n",
            "61/61 [==============================] - ETA: 0s - loss: 1.6254\n",
            "Epoch 63: loss improved from 1.66426 to 1.62545, saving model to nextword1.h5\n",
            "61/61 [==============================] - 13s 212ms/step - loss: 1.6254 - lr: 0.0010\n",
            "Epoch 64/150\n",
            "61/61 [==============================] - ETA: 0s - loss: 1.5874\n",
            "Epoch 64: loss improved from 1.62545 to 1.58737, saving model to nextword1.h5\n",
            "61/61 [==============================] - 13s 212ms/step - loss: 1.5874 - lr: 0.0010\n",
            "Epoch 65/150\n",
            "61/61 [==============================] - ETA: 0s - loss: 1.5449\n",
            "Epoch 65: loss improved from 1.58737 to 1.54491, saving model to nextword1.h5\n",
            "61/61 [==============================] - 13s 212ms/step - loss: 1.5449 - lr: 0.0010\n",
            "Epoch 66/150\n",
            "61/61 [==============================] - ETA: 0s - loss: 1.5317\n",
            "Epoch 66: loss improved from 1.54491 to 1.53171, saving model to nextword1.h5\n",
            "61/61 [==============================] - 13s 211ms/step - loss: 1.5317 - lr: 0.0010\n",
            "Epoch 67/150\n",
            "61/61 [==============================] - ETA: 0s - loss: 1.4544\n",
            "Epoch 67: loss improved from 1.53171 to 1.45443, saving model to nextword1.h5\n",
            "61/61 [==============================] - 13s 208ms/step - loss: 1.4544 - lr: 0.0010\n",
            "Epoch 68/150\n",
            "61/61 [==============================] - ETA: 0s - loss: 1.4270\n",
            "Epoch 68: loss improved from 1.45443 to 1.42702, saving model to nextword1.h5\n",
            "61/61 [==============================] - 13s 209ms/step - loss: 1.4270 - lr: 0.0010\n",
            "Epoch 69/150\n",
            "61/61 [==============================] - ETA: 0s - loss: 1.4061\n",
            "Epoch 69: loss improved from 1.42702 to 1.40609, saving model to nextword1.h5\n",
            "61/61 [==============================] - 13s 209ms/step - loss: 1.4061 - lr: 0.0010\n",
            "Epoch 70/150\n",
            "61/61 [==============================] - ETA: 0s - loss: 1.4019\n",
            "Epoch 70: loss improved from 1.40609 to 1.40194, saving model to nextword1.h5\n",
            "61/61 [==============================] - 13s 209ms/step - loss: 1.4019 - lr: 0.0010\n",
            "Epoch 71/150\n",
            "61/61 [==============================] - ETA: 0s - loss: 1.3647\n",
            "Epoch 71: loss improved from 1.40194 to 1.36474, saving model to nextword1.h5\n",
            "61/61 [==============================] - 13s 210ms/step - loss: 1.3647 - lr: 0.0010\n",
            "Epoch 72/150\n",
            "61/61 [==============================] - ETA: 0s - loss: 1.3259\n",
            "Epoch 72: loss improved from 1.36474 to 1.32594, saving model to nextword1.h5\n",
            "61/61 [==============================] - 13s 212ms/step - loss: 1.3259 - lr: 0.0010\n",
            "Epoch 73/150\n",
            "61/61 [==============================] - ETA: 0s - loss: 1.3136\n",
            "Epoch 73: loss improved from 1.32594 to 1.31358, saving model to nextword1.h5\n",
            "61/61 [==============================] - 13s 205ms/step - loss: 1.3136 - lr: 0.0010\n",
            "Epoch 74/150\n",
            "61/61 [==============================] - ETA: 0s - loss: 1.2854\n",
            "Epoch 74: loss improved from 1.31358 to 1.28540, saving model to nextword1.h5\n",
            "61/61 [==============================] - 13s 207ms/step - loss: 1.2854 - lr: 0.0010\n",
            "Epoch 75/150\n",
            "61/61 [==============================] - ETA: 0s - loss: 1.2469\n",
            "Epoch 75: loss improved from 1.28540 to 1.24687, saving model to nextword1.h5\n",
            "61/61 [==============================] - 13s 209ms/step - loss: 1.2469 - lr: 0.0010\n",
            "Epoch 76/150\n",
            "61/61 [==============================] - ETA: 0s - loss: 1.2440\n",
            "Epoch 76: loss improved from 1.24687 to 1.24398, saving model to nextword1.h5\n",
            "61/61 [==============================] - 13s 208ms/step - loss: 1.2440 - lr: 0.0010\n",
            "Epoch 77/150\n",
            "61/61 [==============================] - ETA: 0s - loss: 1.2502\n",
            "Epoch 77: loss did not improve from 1.24398\n",
            "61/61 [==============================] - 12s 202ms/step - loss: 1.2502 - lr: 0.0010\n",
            "Epoch 78/150\n",
            "61/61 [==============================] - ETA: 0s - loss: 1.2238\n",
            "Epoch 78: loss improved from 1.24398 to 1.22381, saving model to nextword1.h5\n",
            "61/61 [==============================] - 13s 209ms/step - loss: 1.2238 - lr: 0.0010\n",
            "Epoch 79/150\n",
            "61/61 [==============================] - ETA: 0s - loss: 1.2108\n",
            "Epoch 79: loss improved from 1.22381 to 1.21084, saving model to nextword1.h5\n",
            "61/61 [==============================] - 13s 213ms/step - loss: 1.2108 - lr: 0.0010\n",
            "Epoch 80/150\n",
            "61/61 [==============================] - ETA: 0s - loss: 1.1952\n",
            "Epoch 80: loss improved from 1.21084 to 1.19521, saving model to nextword1.h5\n",
            "61/61 [==============================] - 13s 208ms/step - loss: 1.1952 - lr: 0.0010\n",
            "Epoch 81/150\n",
            "61/61 [==============================] - ETA: 0s - loss: 1.1856\n",
            "Epoch 81: loss improved from 1.19521 to 1.18560, saving model to nextword1.h5\n",
            "61/61 [==============================] - 13s 214ms/step - loss: 1.1856 - lr: 0.0010\n",
            "Epoch 82/150\n",
            "61/61 [==============================] - ETA: 0s - loss: 1.1882\n",
            "Epoch 82: loss did not improve from 1.18560\n",
            "61/61 [==============================] - 13s 218ms/step - loss: 1.1882 - lr: 0.0010\n",
            "Epoch 83/150\n",
            "61/61 [==============================] - ETA: 0s - loss: 1.1830\n",
            "Epoch 83: loss improved from 1.18560 to 1.18296, saving model to nextword1.h5\n",
            "61/61 [==============================] - 13s 215ms/step - loss: 1.1830 - lr: 0.0010\n",
            "Epoch 84/150\n",
            "61/61 [==============================] - ETA: 0s - loss: 1.1681\n",
            "Epoch 84: loss improved from 1.18296 to 1.16811, saving model to nextword1.h5\n",
            "61/61 [==============================] - 13s 216ms/step - loss: 1.1681 - lr: 0.0010\n",
            "Epoch 85/150\n",
            "61/61 [==============================] - ETA: 0s - loss: 1.1537\n",
            "Epoch 85: loss improved from 1.16811 to 1.15374, saving model to nextword1.h5\n",
            "61/61 [==============================] - 13s 214ms/step - loss: 1.1537 - lr: 0.0010\n",
            "Epoch 86/150\n",
            "61/61 [==============================] - ETA: 0s - loss: 1.1484\n",
            "Epoch 86: loss improved from 1.15374 to 1.14845, saving model to nextword1.h5\n",
            "61/61 [==============================] - 13s 214ms/step - loss: 1.1484 - lr: 0.0010\n",
            "Epoch 87/150\n",
            "61/61 [==============================] - ETA: 0s - loss: 1.1352\n",
            "Epoch 87: loss improved from 1.14845 to 1.13520, saving model to nextword1.h5\n",
            "61/61 [==============================] - 13s 217ms/step - loss: 1.1352 - lr: 0.0010\n",
            "Epoch 88/150\n",
            "61/61 [==============================] - ETA: 0s - loss: 1.1216\n",
            "Epoch 88: loss improved from 1.13520 to 1.12155, saving model to nextword1.h5\n",
            "61/61 [==============================] - 13s 215ms/step - loss: 1.1216 - lr: 0.0010\n",
            "Epoch 89/150\n",
            "61/61 [==============================] - ETA: 0s - loss: 1.1237\n",
            "Epoch 89: loss did not improve from 1.12155\n",
            "61/61 [==============================] - 13s 210ms/step - loss: 1.1237 - lr: 0.0010\n",
            "Epoch 90/150\n",
            "61/61 [==============================] - ETA: 0s - loss: 1.1204\n",
            "Epoch 90: loss improved from 1.12155 to 1.12040, saving model to nextword1.h5\n",
            "61/61 [==============================] - 13s 214ms/step - loss: 1.1204 - lr: 0.0010\n",
            "Epoch 91/150\n",
            "61/61 [==============================] - ETA: 0s - loss: 1.1272\n",
            "Epoch 91: loss did not improve from 1.12040\n",
            "61/61 [==============================] - 13s 205ms/step - loss: 1.1272 - lr: 0.0010\n",
            "Epoch 92/150\n",
            "61/61 [==============================] - ETA: 0s - loss: 1.1181\n",
            "Epoch 92: loss improved from 1.12040 to 1.11814, saving model to nextword1.h5\n",
            "61/61 [==============================] - 13s 211ms/step - loss: 1.1181 - lr: 0.0010\n",
            "Epoch 93/150\n",
            "61/61 [==============================] - ETA: 0s - loss: 1.1193\n",
            "Epoch 93: loss did not improve from 1.11814\n",
            "61/61 [==============================] - 12s 203ms/step - loss: 1.1193 - lr: 0.0010\n",
            "Epoch 94/150\n",
            "61/61 [==============================] - ETA: 0s - loss: 1.1298\n",
            "Epoch 94: loss did not improve from 1.11814\n",
            "61/61 [==============================] - 13s 206ms/step - loss: 1.1298 - lr: 0.0010\n",
            "Epoch 95/150\n",
            "61/61 [==============================] - ETA: 0s - loss: 1.1101\n",
            "Epoch 95: loss improved from 1.11814 to 1.11013, saving model to nextword1.h5\n",
            "61/61 [==============================] - 13s 215ms/step - loss: 1.1101 - lr: 0.0010\n",
            "Epoch 96/150\n",
            "61/61 [==============================] - ETA: 0s - loss: 1.1056\n",
            "Epoch 96: loss improved from 1.11013 to 1.10562, saving model to nextword1.h5\n",
            "61/61 [==============================] - 13s 213ms/step - loss: 1.1056 - lr: 0.0010\n",
            "Epoch 97/150\n",
            "61/61 [==============================] - ETA: 0s - loss: 1.1047\n",
            "Epoch 97: loss improved from 1.10562 to 1.10471, saving model to nextword1.h5\n",
            "61/61 [==============================] - 13s 213ms/step - loss: 1.1047 - lr: 0.0010\n",
            "Epoch 98/150\n",
            "61/61 [==============================] - ETA: 0s - loss: 1.0905\n",
            "Epoch 98: loss improved from 1.10471 to 1.09048, saving model to nextword1.h5\n",
            "61/61 [==============================] - 13s 213ms/step - loss: 1.0905 - lr: 0.0010\n",
            "Epoch 99/150\n",
            "61/61 [==============================] - ETA: 0s - loss: 1.0903\n",
            "Epoch 99: loss improved from 1.09048 to 1.09033, saving model to nextword1.h5\n",
            "61/61 [==============================] - 13s 214ms/step - loss: 1.0903 - lr: 0.0010\n",
            "Epoch 100/150\n",
            "61/61 [==============================] - ETA: 0s - loss: 1.0673\n",
            "Epoch 100: loss improved from 1.09033 to 1.06728, saving model to nextword1.h5\n",
            "61/61 [==============================] - 13s 215ms/step - loss: 1.0673 - lr: 0.0010\n",
            "Epoch 101/150\n",
            "61/61 [==============================] - ETA: 0s - loss: 1.0396\n",
            "Epoch 101: loss improved from 1.06728 to 1.03959, saving model to nextword1.h5\n",
            "61/61 [==============================] - 13s 219ms/step - loss: 1.0396 - lr: 0.0010\n",
            "Epoch 102/150\n",
            "61/61 [==============================] - ETA: 0s - loss: 1.0409\n",
            "Epoch 102: loss did not improve from 1.03959\n",
            "61/61 [==============================] - 13s 209ms/step - loss: 1.0409 - lr: 0.0010\n",
            "Epoch 103/150\n",
            "61/61 [==============================] - ETA: 0s - loss: 1.0223\n",
            "Epoch 103: loss improved from 1.03959 to 1.02235, saving model to nextword1.h5\n",
            "61/61 [==============================] - 13s 213ms/step - loss: 1.0223 - lr: 0.0010\n",
            "Epoch 104/150\n",
            "61/61 [==============================] - ETA: 0s - loss: 1.0140\n",
            "Epoch 104: loss improved from 1.02235 to 1.01400, saving model to nextword1.h5\n",
            "61/61 [==============================] - 13s 214ms/step - loss: 1.0140 - lr: 0.0010\n",
            "Epoch 105/150\n",
            "61/61 [==============================] - ETA: 0s - loss: 1.0023\n",
            "Epoch 105: loss improved from 1.01400 to 1.00229, saving model to nextword1.h5\n",
            "61/61 [==============================] - 14s 224ms/step - loss: 1.0023 - lr: 0.0010\n",
            "Epoch 106/150\n",
            "61/61 [==============================] - ETA: 0s - loss: 0.9982\n",
            "Epoch 106: loss improved from 1.00229 to 0.99816, saving model to nextword1.h5\n",
            "61/61 [==============================] - 13s 215ms/step - loss: 0.9982 - lr: 0.0010\n",
            "Epoch 107/150\n",
            "61/61 [==============================] - ETA: 0s - loss: 0.9899\n",
            "Epoch 107: loss improved from 0.99816 to 0.98988, saving model to nextword1.h5\n",
            "61/61 [==============================] - 13s 215ms/step - loss: 0.9899 - lr: 0.0010\n",
            "Epoch 108/150\n",
            "61/61 [==============================] - ETA: 0s - loss: 0.9792\n",
            "Epoch 108: loss improved from 0.98988 to 0.97920, saving model to nextword1.h5\n",
            "61/61 [==============================] - 14s 224ms/step - loss: 0.9792 - lr: 0.0010\n",
            "Epoch 109/150\n",
            "61/61 [==============================] - ETA: 0s - loss: 0.9810\n",
            "Epoch 109: loss did not improve from 0.97920\n",
            "61/61 [==============================] - 13s 219ms/step - loss: 0.9810 - lr: 0.0010\n",
            "Epoch 110/150\n",
            "61/61 [==============================] - ETA: 0s - loss: 0.9503\n",
            "Epoch 110: loss improved from 0.97920 to 0.95027, saving model to nextword1.h5\n",
            "61/61 [==============================] - 14s 226ms/step - loss: 0.9503 - lr: 0.0010\n",
            "Epoch 111/150\n",
            "61/61 [==============================] - ETA: 0s - loss: 0.9490\n",
            "Epoch 111: loss improved from 0.95027 to 0.94899, saving model to nextword1.h5\n",
            "61/61 [==============================] - 13s 216ms/step - loss: 0.9490 - lr: 0.0010\n",
            "Epoch 112/150\n",
            "61/61 [==============================] - ETA: 0s - loss: 0.9421\n",
            "Epoch 112: loss improved from 0.94899 to 0.94207, saving model to nextword1.h5\n",
            "61/61 [==============================] - 13s 220ms/step - loss: 0.9421 - lr: 0.0010\n",
            "Epoch 113/150\n",
            "61/61 [==============================] - ETA: 0s - loss: 0.9365\n",
            "Epoch 113: loss improved from 0.94207 to 0.93655, saving model to nextword1.h5\n",
            "61/61 [==============================] - 14s 223ms/step - loss: 0.9365 - lr: 0.0010\n",
            "Epoch 114/150\n",
            "61/61 [==============================] - ETA: 0s - loss: 0.9328\n",
            "Epoch 114: loss improved from 0.93655 to 0.93277, saving model to nextword1.h5\n",
            "61/61 [==============================] - 13s 215ms/step - loss: 0.9328 - lr: 0.0010\n",
            "Epoch 115/150\n",
            "61/61 [==============================] - ETA: 0s - loss: 0.9262\n",
            "Epoch 115: loss improved from 0.93277 to 0.92621, saving model to nextword1.h5\n",
            "61/61 [==============================] - 13s 215ms/step - loss: 0.9262 - lr: 0.0010\n",
            "Epoch 116/150\n",
            "61/61 [==============================] - ETA: 0s - loss: 0.9302\n",
            "Epoch 116: loss did not improve from 0.92621\n",
            "61/61 [==============================] - 13s 208ms/step - loss: 0.9302 - lr: 0.0010\n",
            "Epoch 117/150\n",
            "61/61 [==============================] - ETA: 0s - loss: 0.9347\n",
            "Epoch 117: loss did not improve from 0.92621\n",
            "61/61 [==============================] - 13s 207ms/step - loss: 0.9347 - lr: 0.0010\n",
            "Epoch 118/150\n",
            "61/61 [==============================] - ETA: 0s - loss: 0.9437\n",
            "Epoch 118: loss did not improve from 0.92621\n",
            "\n",
            "Epoch 118: ReduceLROnPlateau reducing learning rate to 0.00020000000949949026.\n",
            "61/61 [==============================] - 13s 210ms/step - loss: 0.9437 - lr: 0.0010\n",
            "Epoch 119/150\n",
            "61/61 [==============================] - ETA: 0s - loss: 0.7519\n",
            "Epoch 119: loss improved from 0.92621 to 0.75188, saving model to nextword1.h5\n",
            "61/61 [==============================] - 13s 214ms/step - loss: 0.7519 - lr: 2.0000e-04\n",
            "Epoch 120/150\n",
            "61/61 [==============================] - ETA: 0s - loss: 0.6960\n",
            "Epoch 120: loss improved from 0.75188 to 0.69601, saving model to nextword1.h5\n",
            "61/61 [==============================] - 13s 218ms/step - loss: 0.6960 - lr: 2.0000e-04\n",
            "Epoch 121/150\n",
            "61/61 [==============================] - ETA: 0s - loss: 0.6777\n",
            "Epoch 121: loss improved from 0.69601 to 0.67768, saving model to nextword1.h5\n",
            "61/61 [==============================] - 13s 215ms/step - loss: 0.6777 - lr: 2.0000e-04\n",
            "Epoch 122/150\n",
            "61/61 [==============================] - ETA: 0s - loss: 0.6696\n",
            "Epoch 122: loss improved from 0.67768 to 0.66961, saving model to nextword1.h5\n",
            "61/61 [==============================] - 13s 217ms/step - loss: 0.6696 - lr: 2.0000e-04\n",
            "Epoch 123/150\n",
            "61/61 [==============================] - ETA: 0s - loss: 0.6649\n",
            "Epoch 123: loss improved from 0.66961 to 0.66485, saving model to nextword1.h5\n",
            "61/61 [==============================] - 13s 215ms/step - loss: 0.6649 - lr: 2.0000e-04\n",
            "Epoch 124/150\n",
            "61/61 [==============================] - ETA: 0s - loss: 0.6639\n",
            "Epoch 124: loss improved from 0.66485 to 0.66392, saving model to nextword1.h5\n",
            "61/61 [==============================] - 14s 238ms/step - loss: 0.6639 - lr: 2.0000e-04\n",
            "Epoch 125/150\n",
            "61/61 [==============================] - ETA: 0s - loss: 0.6606\n",
            "Epoch 125: loss improved from 0.66392 to 0.66057, saving model to nextword1.h5\n",
            "61/61 [==============================] - 13s 216ms/step - loss: 0.6606 - lr: 2.0000e-04\n",
            "Epoch 126/150\n",
            "61/61 [==============================] - ETA: 0s - loss: 0.6577\n",
            "Epoch 126: loss improved from 0.66057 to 0.65769, saving model to nextword1.h5\n",
            "61/61 [==============================] - 13s 215ms/step - loss: 0.6577 - lr: 2.0000e-04\n",
            "Epoch 127/150\n",
            "61/61 [==============================] - ETA: 0s - loss: 0.6596\n",
            "Epoch 127: loss did not improve from 0.65769\n",
            "61/61 [==============================] - 13s 210ms/step - loss: 0.6596 - lr: 2.0000e-04\n",
            "Epoch 128/150\n",
            "61/61 [==============================] - ETA: 0s - loss: 0.6583\n",
            "Epoch 128: loss did not improve from 0.65769\n",
            "61/61 [==============================] - 13s 209ms/step - loss: 0.6583 - lr: 2.0000e-04\n",
            "Epoch 129/150\n",
            "61/61 [==============================] - ETA: 0s - loss: 0.6584\n",
            "Epoch 129: loss did not improve from 0.65769\n",
            "\n",
            "Epoch 129: ReduceLROnPlateau reducing learning rate to 0.0001.\n",
            "61/61 [==============================] - 13s 209ms/step - loss: 0.6584 - lr: 2.0000e-04\n",
            "Epoch 130/150\n",
            "61/61 [==============================] - ETA: 0s - loss: 0.6264\n",
            "Epoch 130: loss improved from 0.65769 to 0.62636, saving model to nextword1.h5\n",
            "61/61 [==============================] - 13s 215ms/step - loss: 0.6264 - lr: 1.0000e-04\n",
            "Epoch 131/150\n",
            "61/61 [==============================] - ETA: 0s - loss: 0.6240\n",
            "Epoch 131: loss improved from 0.62636 to 0.62399, saving model to nextword1.h5\n",
            "61/61 [==============================] - 13s 216ms/step - loss: 0.6240 - lr: 1.0000e-04\n",
            "Epoch 132/150\n",
            "61/61 [==============================] - ETA: 0s - loss: 0.6243\n",
            "Epoch 132: loss did not improve from 0.62399\n",
            "61/61 [==============================] - 13s 217ms/step - loss: 0.6243 - lr: 1.0000e-04\n",
            "Epoch 133/150\n",
            "61/61 [==============================] - ETA: 0s - loss: 0.6231\n",
            "Epoch 133: loss improved from 0.62399 to 0.62311, saving model to nextword1.h5\n",
            "61/61 [==============================] - 13s 213ms/step - loss: 0.6231 - lr: 1.0000e-04\n",
            "Epoch 134/150\n",
            "61/61 [==============================] - ETA: 0s - loss: 0.6224\n",
            "Epoch 134: loss improved from 0.62311 to 0.62243, saving model to nextword1.h5\n",
            "61/61 [==============================] - 13s 214ms/step - loss: 0.6224 - lr: 1.0000e-04\n",
            "Epoch 135/150\n",
            "61/61 [==============================] - ETA: 0s - loss: 0.6224\n",
            "Epoch 135: loss improved from 0.62243 to 0.62236, saving model to nextword1.h5\n",
            "61/61 [==============================] - 13s 213ms/step - loss: 0.6224 - lr: 1.0000e-04\n",
            "Epoch 136/150\n",
            "61/61 [==============================] - ETA: 0s - loss: 0.6221\n",
            "Epoch 136: loss improved from 0.62236 to 0.62214, saving model to nextword1.h5\n",
            "61/61 [==============================] - 13s 217ms/step - loss: 0.6221 - lr: 1.0000e-04\n",
            "Epoch 137/150\n",
            "61/61 [==============================] - ETA: 0s - loss: 0.6226\n",
            "Epoch 137: loss did not improve from 0.62214\n",
            "61/61 [==============================] - 13s 205ms/step - loss: 0.6226 - lr: 1.0000e-04\n",
            "Epoch 138/150\n",
            "61/61 [==============================] - ETA: 0s - loss: 0.6220\n",
            "Epoch 138: loss improved from 0.62214 to 0.62199, saving model to nextword1.h5\n",
            "61/61 [==============================] - 13s 216ms/step - loss: 0.6220 - lr: 1.0000e-04\n",
            "Epoch 139/150\n",
            "61/61 [==============================] - ETA: 0s - loss: 0.6217\n",
            "Epoch 139: loss improved from 0.62199 to 0.62168, saving model to nextword1.h5\n",
            "61/61 [==============================] - 13s 215ms/step - loss: 0.6217 - lr: 1.0000e-04\n",
            "Epoch 140/150\n",
            "61/61 [==============================] - ETA: 0s - loss: 0.6215\n",
            "Epoch 140: loss improved from 0.62168 to 0.62153, saving model to nextword1.h5\n",
            "61/61 [==============================] - 13s 210ms/step - loss: 0.6215 - lr: 1.0000e-04\n",
            "Epoch 141/150\n",
            "61/61 [==============================] - ETA: 0s - loss: 0.6216\n",
            "Epoch 141: loss did not improve from 0.62153\n",
            "61/61 [==============================] - 13s 210ms/step - loss: 0.6216 - lr: 1.0000e-04\n",
            "Epoch 142/150\n",
            "61/61 [==============================] - ETA: 0s - loss: 0.6212\n",
            "Epoch 142: loss improved from 0.62153 to 0.62116, saving model to nextword1.h5\n",
            "61/61 [==============================] - 13s 211ms/step - loss: 0.6212 - lr: 1.0000e-04\n",
            "Epoch 143/150\n",
            "61/61 [==============================] - ETA: 0s - loss: 0.6202\n",
            "Epoch 143: loss improved from 0.62116 to 0.62021, saving model to nextword1.h5\n",
            "61/61 [==============================] - 14s 225ms/step - loss: 0.6202 - lr: 1.0000e-04\n",
            "Epoch 144/150\n",
            "61/61 [==============================] - ETA: 0s - loss: 0.6202\n",
            "Epoch 144: loss did not improve from 0.62021\n",
            "61/61 [==============================] - 14s 229ms/step - loss: 0.6202 - lr: 1.0000e-04\n",
            "Epoch 145/150\n",
            "61/61 [==============================] - ETA: 0s - loss: 0.6206\n",
            "Epoch 145: loss did not improve from 0.62021\n",
            "61/61 [==============================] - 14s 223ms/step - loss: 0.6206 - lr: 1.0000e-04\n",
            "Epoch 146/150\n",
            "61/61 [==============================] - ETA: 0s - loss: 0.6205\n",
            "Epoch 146: loss did not improve from 0.62021\n",
            "61/61 [==============================] - 13s 218ms/step - loss: 0.6205 - lr: 1.0000e-04\n",
            "Epoch 147/150\n",
            "61/61 [==============================] - ETA: 0s - loss: 0.6208\n",
            "Epoch 147: loss did not improve from 0.62021\n",
            "61/61 [==============================] - 13s 212ms/step - loss: 0.6208 - lr: 1.0000e-04\n",
            "Epoch 148/150\n",
            "61/61 [==============================] - ETA: 0s - loss: 0.6199\n",
            "Epoch 148: loss improved from 0.62021 to 0.61989, saving model to nextword1.h5\n",
            "61/61 [==============================] - 14s 225ms/step - loss: 0.6199 - lr: 1.0000e-04\n",
            "Epoch 149/150\n",
            "61/61 [==============================] - ETA: 0s - loss: 0.6199\n",
            "Epoch 149: loss did not improve from 0.61989\n",
            "61/61 [==============================] - 13s 211ms/step - loss: 0.6199 - lr: 1.0000e-04\n",
            "Epoch 150/150\n",
            "61/61 [==============================] - ETA: 0s - loss: 0.6195\n",
            "Epoch 150: loss improved from 0.61989 to 0.61948, saving model to nextword1.h5\n",
            "61/61 [==============================] - 13s 219ms/step - loss: 0.6195 - lr: 1.0000e-04\n"
          ]
        },
        {
          "output_type": "execute_result",
          "data": {
            "text/plain": [
              "<keras.callbacks.History at 0x7fa494d40050>"
            ]
          },
          "metadata": {},
          "execution_count": 28
        }
      ]
    }
  ]
}